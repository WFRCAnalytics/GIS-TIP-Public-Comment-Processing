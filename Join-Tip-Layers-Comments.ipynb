{
 "cells": [
  {
   "cell_type": "code",
   "execution_count": 50,
   "metadata": {},
   "outputs": [],
   "source": [
    "import os\n",
    "from arcgis import GIS\n",
    "from arcgis.features import GeoAccessor\n",
    "from arcgis.features import GeoSeriesAccessor\n",
    "import pandas as pd\n",
    "from datetime import datetime\n",
    "\n",
    "# show all columns\n",
    "pd.options.display.max_columns = None"
   ]
  },
  {
   "cell_type": "code",
   "execution_count": 51,
   "metadata": {},
   "outputs": [],
   "source": [
    "# create output directory\n",
    "if not os.path.exists('Outputs'):\n",
    "    os.makedirs('Outputs')\n",
    "    \n",
    "outputs = '.\\\\Outputs'"
   ]
  },
  {
   "cell_type": "code",
   "execution_count": 52,
   "metadata": {},
   "outputs": [],
   "source": [
    "# connect to AGOL\n",
    "gis = GIS()"
   ]
  },
  {
   "cell_type": "code",
   "execution_count": 53,
   "metadata": {},
   "outputs": [],
   "source": [
    "# get data from AGOL\n",
    "tip_lines = gis.content.get('3dd79d21ce4342c0a2f2f8ccd4e12df2').layers[0].query(where='1=1').sdf\n",
    "tip_points = gis.content.get('3dd79d21ce4342c0a2f2f8ccd4e12df2').layers[1].query(where='1=1').sdf\n",
    "tip_comments = gis.content.get('3dd79d21ce4342c0a2f2f8ccd4e12df2').tables[0].query(where='1=1').sdf"
   ]
  },
  {
   "cell_type": "code",
   "execution_count": 54,
   "metadata": {},
   "outputs": [],
   "source": [
    "# remove fields\n",
    "del tip_comments['GlobalID']\n",
    "del tip_comments['OBJECTID']"
   ]
  },
  {
   "cell_type": "code",
   "execution_count": 55,
   "metadata": {},
   "outputs": [],
   "source": [
    "# join comments to lines\n",
    "tip_comments_on_lines = tip_comments.merge(tip_lines[['GlobalID', 'PIN', 'PIN_DESC']], left_on='GUID', right_on='GlobalID', how='inner')"
   ]
  },
  {
   "cell_type": "code",
   "execution_count": 56,
   "metadata": {},
   "outputs": [],
   "source": [
    "# joins comments to points\n",
    "tip_comments_on_points = tip_comments.merge(tip_points[['GlobalID', 'PIN', 'PIN_DESC']], left_on='GUID', right_on='GlobalID', how='inner')"
   ]
  },
  {
   "cell_type": "code",
   "execution_count": 57,
   "metadata": {},
   "outputs": [
    {
     "data": {
      "text/html": [
       "<div>\n",
       "<style scoped>\n",
       "    .dataframe tbody tr th:only-of-type {\n",
       "        vertical-align: middle;\n",
       "    }\n",
       "\n",
       "    .dataframe tbody tr th {\n",
       "        vertical-align: top;\n",
       "    }\n",
       "\n",
       "    .dataframe thead th {\n",
       "        text-align: right;\n",
       "    }\n",
       "</style>\n",
       "<table border=\"1\" class=\"dataframe\">\n",
       "  <thead>\n",
       "    <tr style=\"text-align: right;\">\n",
       "      <th></th>\n",
       "      <th>PersonName</th>\n",
       "      <th>PersonOrg</th>\n",
       "      <th>PersonCont</th>\n",
       "      <th>Comment</th>\n",
       "      <th>CommentDT</th>\n",
       "      <th>GUID</th>\n",
       "      <th>GlobalID</th>\n",
       "      <th>PIN</th>\n",
       "      <th>PIN_DESC</th>\n",
       "    </tr>\n",
       "  </thead>\n",
       "  <tbody>\n",
       "    <tr>\n",
       "      <th>0</th>\n",
       "      <td>Frederick Michel Jenny</td>\n",
       "      <td>Citizen</td>\n",
       "      <td>frederickmjenny@gmail.com</td>\n",
       "      <td>I want to voice my opposition to any EV chargi...</td>\n",
       "      <td>2024-07-02 21:08:10.910000</td>\n",
       "      <td>95eff3b3-c54d-4216-8ecb-842d5c338e44</td>\n",
       "      <td>95eff3b3-c54d-4216-8ecb-842d5c338e44</td>\n",
       "      <td>22097.0</td>\n",
       "      <td>Riverton City Electric Vehicle Charging Stations</td>\n",
       "    </tr>\n",
       "    <tr>\n",
       "      <th>1</th>\n",
       "      <td>Frederick Michel Jenny</td>\n",
       "      <td>Citizen</td>\n",
       "      <td>frederickmjenny@gmail.com</td>\n",
       "      <td>The S Line is amazing and should be expanded a...</td>\n",
       "      <td>2024-07-02 21:51:25.956999</td>\n",
       "      <td>d90265e7-c9ef-4466-920b-c0305b60d9df</td>\n",
       "      <td>d90265e7-c9ef-4466-920b-c0305b60d9df</td>\n",
       "      <td>21826.0</td>\n",
       "      <td>S-Line Extension</td>\n",
       "    </tr>\n",
       "    <tr>\n",
       "      <th>2</th>\n",
       "      <td>CAROL HANSEN</td>\n",
       "      <td></td>\n",
       "      <td>chansen@weber.edu</td>\n",
       "      <td>Yes, let’s keep extending the SLine on the Eas...</td>\n",
       "      <td>2024-07-03 14:02:47.008000</td>\n",
       "      <td>d90265e7-c9ef-4466-920b-c0305b60d9df</td>\n",
       "      <td>d90265e7-c9ef-4466-920b-c0305b60d9df</td>\n",
       "      <td>21826.0</td>\n",
       "      <td>S-Line Extension</td>\n",
       "    </tr>\n",
       "    <tr>\n",
       "      <th>3</th>\n",
       "      <td>Cody</td>\n",
       "      <td>Resident SH</td>\n",
       "      <td>2088910994</td>\n",
       "      <td>I love the S-Line! Use it often, should be ext...</td>\n",
       "      <td>2024-07-05 06:36:45.075000</td>\n",
       "      <td>d90265e7-c9ef-4466-920b-c0305b60d9df</td>\n",
       "      <td>d90265e7-c9ef-4466-920b-c0305b60d9df</td>\n",
       "      <td>21826.0</td>\n",
       "      <td>S-Line Extension</td>\n",
       "    </tr>\n",
       "    <tr>\n",
       "      <th>4</th>\n",
       "      <td>Frederick Michel Jenny</td>\n",
       "      <td>Citizen</td>\n",
       "      <td>frederickmjenny@gmail.com</td>\n",
       "      <td>Adding another frontrunner station down here w...</td>\n",
       "      <td>2024-07-02 23:40:47.760000</td>\n",
       "      <td>1278918e-685c-4668-a384-60857a579fbf</td>\n",
       "      <td>1278918e-685c-4668-a384-60857a579fbf</td>\n",
       "      <td>21213.0</td>\n",
       "      <td>FrontRunner Station at Point of the Mountain</td>\n",
       "    </tr>\n",
       "  </tbody>\n",
       "</table>\n",
       "</div>"
      ],
      "text/plain": [
       "               PersonName    PersonOrg                 PersonCont  \\\n",
       "0  Frederick Michel Jenny      Citizen  frederickmjenny@gmail.com   \n",
       "1  Frederick Michel Jenny      Citizen  frederickmjenny@gmail.com   \n",
       "2            CAROL HANSEN                       chansen@weber.edu   \n",
       "3                    Cody  Resident SH                 2088910994   \n",
       "4  Frederick Michel Jenny      Citizen  frederickmjenny@gmail.com   \n",
       "\n",
       "                                             Comment  \\\n",
       "0  I want to voice my opposition to any EV chargi...   \n",
       "1  The S Line is amazing and should be expanded a...   \n",
       "2  Yes, let’s keep extending the SLine on the Eas...   \n",
       "3  I love the S-Line! Use it often, should be ext...   \n",
       "4  Adding another frontrunner station down here w...   \n",
       "\n",
       "                   CommentDT                                  GUID  \\\n",
       "0 2024-07-02 21:08:10.910000  95eff3b3-c54d-4216-8ecb-842d5c338e44   \n",
       "1 2024-07-02 21:51:25.956999  d90265e7-c9ef-4466-920b-c0305b60d9df   \n",
       "2 2024-07-03 14:02:47.008000  d90265e7-c9ef-4466-920b-c0305b60d9df   \n",
       "3 2024-07-05 06:36:45.075000  d90265e7-c9ef-4466-920b-c0305b60d9df   \n",
       "4 2024-07-02 23:40:47.760000  1278918e-685c-4668-a384-60857a579fbf   \n",
       "\n",
       "                               GlobalID      PIN  \\\n",
       "0  95eff3b3-c54d-4216-8ecb-842d5c338e44  22097.0   \n",
       "1  d90265e7-c9ef-4466-920b-c0305b60d9df  21826.0   \n",
       "2  d90265e7-c9ef-4466-920b-c0305b60d9df  21826.0   \n",
       "3  d90265e7-c9ef-4466-920b-c0305b60d9df  21826.0   \n",
       "4  1278918e-685c-4668-a384-60857a579fbf  21213.0   \n",
       "\n",
       "                                           PIN_DESC  \n",
       "0  Riverton City Electric Vehicle Charging Stations  \n",
       "1                                  S-Line Extension  \n",
       "2                                  S-Line Extension  \n",
       "3                                  S-Line Extension  \n",
       "4      FrontRunner Station at Point of the Mountain  "
      ]
     },
     "execution_count": 57,
     "metadata": {},
     "output_type": "execute_result"
    }
   ],
   "source": [
    "tip_comments_on_all = pd.concat([tip_comments_on_points, tip_comments_on_lines])\n",
    "tip_comments_on_all.head()"
   ]
  },
  {
   "cell_type": "code",
   "execution_count": 58,
   "metadata": {},
   "outputs": [],
   "source": [
    "# export with date\n",
    "now = datetime.now()\n",
    "dt_string = now.strftime(\"%Y%m%d_%H%M%S\")\n",
    "tip_comments_on_all.to_csv(os.path.join(outputs, f'tip_comments_{dt_string}.csv'), index=False)"
   ]
  }
 ],
 "metadata": {
  "kernelspec": {
   "display_name": "Python 3.7.11",
   "language": "python",
   "name": "python3"
  },
  "language_info": {
   "codemirror_mode": {
    "name": "ipython",
    "version": 3
   },
   "file_extension": ".py",
   "mimetype": "text/x-python",
   "name": "python",
   "nbconvert_exporter": "python",
   "pygments_lexer": "ipython3",
   "version": "3.9.11"
  },
  "orig_nbformat": 4,
  "vscode": {
   "interpreter": {
    "hash": "3245673af07dcc28bdd829afb187282e9288a1f8195a5928b70ecba6e5973721"
   }
  }
 },
 "nbformat": 4,
 "nbformat_minor": 2
}
